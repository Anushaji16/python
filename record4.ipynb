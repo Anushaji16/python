{
 "cells": [
  {
   "cell_type": "code",
   "execution_count": 1,
   "id": "32a0f19f-f7eb-48a1-b494-acb7b80d94ee",
   "metadata": {},
   "outputs": [
    {
     "name": "stdin",
     "output_type": "stream",
     "text": [
      "enter a string: anu\n"
     ]
    },
    {
     "name": "stdout",
     "output_type": "stream",
     "text": [
      "Exchanged string: nna\n"
     ]
    }
   ],
   "source": [
    "# write a python program to change a given string to a new string where the first and last\n",
    "\n",
    "s=input(\"enter a string:\")\n",
    "first=s[0]\n",
    "middle=s[1:-1]\n",
    "last=s[1]\n",
    "newstring=last+middle+first\n",
    "print(\"Exchanged string:\",newstring)"
   ]
  },
  {
   "cell_type": "code",
   "execution_count": 2,
   "id": "8494fde6-ff70-489e-ae0c-2f75c214ff63",
   "metadata": {},
   "outputs": [
    {
     "name": "stdin",
     "output_type": "stream",
     "text": [
      "enter a string: programming\n"
     ]
    },
    {
     "name": "stdout",
     "output_type": "stream",
     "text": [
      "prng\n"
     ]
    }
   ],
   "source": [
    "s=input(\"enter a string:\")\n",
    "first=s[0:2]\n",
    "last=s[-2:]\n",
    "newstring=first+last\n",
    "print(newstring)"
   ]
  },
  {
   "cell_type": "code",
   "execution_count": 3,
   "id": "ed110a21-84d6-4461-9787-7157bd4a2965",
   "metadata": {},
   "outputs": [
    {
     "name": "stdin",
     "output_type": "stream",
     "text": [
      "enter a word python\n"
     ]
    },
    {
     "name": "stdout",
     "output_type": "stream",
     "text": [
      "Modified word: pyon\n"
     ]
    }
   ],
   "source": [
    "# write a python program to get a single string from two given strings,separated by a space and swaP the first two characters of each \n",
    "word=input(\"enter a word\")\n",
    "new_word=word[:2] + word[-2:]\n",
    "print(\"Modified word:\",new_word)"
   ]
  },
  {
   "cell_type": "code",
   "execution_count": 5,
   "id": "ae49d308-76c2-4b7d-a97b-30a1c13e8be2",
   "metadata": {},
   "outputs": [
    {
     "name": "stdin",
     "output_type": "stream",
     "text": [
      "Enter first string: hello\n",
      "Enter second string: world\n"
     ]
    },
    {
     "name": "stdout",
     "output_type": "stream",
     "text": [
      "Modified word: wollo herld\n"
     ]
    }
   ],
   "source": [
    "str1=input(\"Enter first string:\")\n",
    "str2=input(\"Enter second string:\")\n",
    "new_str1=str2[:2] + str1[2:]\n",
    "new_str2=str1[:2] + str2[2:]\n",
    "result=new_str1 + \" \" + new_str2\n",
    "print(\"Modified word:\",result)"
   ]
  },
  {
   "cell_type": "code",
   "execution_count": 7,
   "id": "2dcaf74a-1d2c-43d0-b2b4-cbb4be8ad189",
   "metadata": {},
   "outputs": [
    {
     "name": "stdin",
     "output_type": "stream",
     "text": [
      "Enter a word ONION\n"
     ]
    },
    {
     "name": "stdout",
     "output_type": "stream",
     "text": [
      "modified word: ONI$N\n"
     ]
    }
   ],
   "source": [
    "#write a program to get a string from a given string\n",
    "word=input(\"Enter a word\")\n",
    "first_word=word[0]\n",
    "new_word=first_word + word[1:].replace(first_word, \"$\")\n",
    "print(\"modified word:\",new_word)"
   ]
  },
  {
   "cell_type": "code",
   "execution_count": null,
   "id": "dccfa43c-9875-4af5-b3f0-5f2741d9bdc0",
   "metadata": {},
   "outputs": [],
   "source": []
  }
 ],
 "metadata": {
  "kernelspec": {
   "display_name": "Python 3 (ipykernel)",
   "language": "python",
   "name": "python3"
  },
  "language_info": {
   "codemirror_mode": {
    "name": "ipython",
    "version": 3
   },
   "file_extension": ".py",
   "mimetype": "text/x-python",
   "name": "python",
   "nbconvert_exporter": "python",
   "pygments_lexer": "ipython3",
   "version": "3.11.9"
  }
 },
 "nbformat": 4,
 "nbformat_minor": 5
}
