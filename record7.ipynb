{
 "cells": [
  {
   "cell_type": "code",
   "execution_count": 1,
   "id": "b6901611-070f-4ef1-9ac3-321f59963d92",
   "metadata": {},
   "outputs": [
    {
     "name": "stdin",
     "output_type": "stream",
     "text": [
      "enter the number 23 24 54 23 87 120 130 140\n"
     ]
    },
    {
     "name": "stdout",
     "output_type": "stream",
     "text": [
      "original tuple: (23, 24, 54, 23, 87, 120, 130, 140)\n",
      "3rd element: 54\n",
      "last 3rd element: 120\n"
     ]
    }
   ],
   "source": [
    "# to get the 3rd element and 3rd element from the last\n",
    "t=input(\"enter the number\")\n",
    "s=tuple(map(int,t.split()))\n",
    "print(\"original tuple:\",s)\n",
    "third_element=s[2]\n",
    "third_lastelement=s[-3]\n",
    "print(\"3rd element:\",third_element)\n",
    "print(\"last 3rd element:\",third_lastelement)"
   ]
  },
  {
   "cell_type": "code",
   "execution_count": 2,
   "id": "01618255-38ac-4d1c-8fcf-12177ab6bdcb",
   "metadata": {},
   "outputs": [
    {
     "name": "stdin",
     "output_type": "stream",
     "text": [
      "enter the number 23 12 10 45 50\n"
     ]
    },
    {
     "name": "stdout",
     "output_type": "stream",
     "text": [
      "orginal tuple: (23, 12, 10, 45, 50)\n",
      "average: 28.0\n"
     ]
    }
   ],
   "source": [
    "#average of all items in that tuple\n",
    "t=input(\"enter the number\")\n",
    "s=tuple(map(int,t.split()))\n",
    "print(\"orginal tuple:\",s)\n",
    "avg=sum(s)/len(s)\n",
    "print(\"average:\",avg)"
   ]
  },
  {
   "cell_type": "code",
   "execution_count": null,
   "id": "7344c1a2-2967-410a-8752-5290a1f5847a",
   "metadata": {},
   "outputs": [],
   "source": []
  }
 ],
 "metadata": {
  "kernelspec": {
   "display_name": "Python 3 (ipykernel)",
   "language": "python",
   "name": "python3"
  },
  "language_info": {
   "codemirror_mode": {
    "name": "ipython",
    "version": 3
   },
   "file_extension": ".py",
   "mimetype": "text/x-python",
   "name": "python",
   "nbconvert_exporter": "python",
   "pygments_lexer": "ipython3",
   "version": "3.11.9"
  }
 },
 "nbformat": 4,
 "nbformat_minor": 5
}
