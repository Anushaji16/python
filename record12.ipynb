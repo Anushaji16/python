{
 "cells": [
  {
   "cell_type": "code",
   "execution_count": 14,
   "id": "eac036f3-b3ae-4fdb-adbf-f9369c07f37f",
   "metadata": {},
   "outputs": [
    {
     "name": "stdin",
     "output_type": "stream",
     "text": [
      "Enter the number -5,3,-1,7,-2,10\n"
     ]
    },
    {
     "name": "stdout",
     "output_type": "stream",
     "text": [
      "positive numbers: [3, 7, 10]\n",
      "Square: [1, 4, 9, 16, 25]\n",
      "Vowels: ['o', 'a', 'i']\n",
      "Ordinal_values: [112, 121, 116, 104, 111, 110]\n"
     ]
    }
   ],
   "source": [
    "#list comprehensions:\n",
    "               #(a)generate positive list of numbers from a given list of integers\n",
    "                #(b)square of n numbers\n",
    "               # (c)form a list of vowels selected from a given word\n",
    "                #  (d)list ordinal value of each element of a word(hint:use ord()to get ordinal values)\n",
    "\n",
    "num=list(map(int,input(\"Enter the number\").split(',')))\n",
    "positive_list=[x for x in num if x>0]\n",
    "print(\"positive numbers:\",positive_list)\n",
    "\n",
    "n=5\n",
    "square=[x**2 for x in range(1,n+1)]\n",
    "print(\"Square:\",square)\n",
    "\n",
    "word=\"programming\"\n",
    "vowels=[x for x in word if x.lower() in 'aeiou']\n",
    "print(\"Vowels:\",vowels)\n",
    "\n",
    "word2=\"python\"\n",
    "ordinals=[ord(x)for x in word2]\n",
    "print(\"Ordinal_values:\",ordinals)\n"
   ]
  },
  {
   "cell_type": "code",
   "execution_count": null,
   "id": "4b3b7573-bcfc-48b7-926c-e03c9db79473",
   "metadata": {},
   "outputs": [],
   "source": [
    "#"
   ]
  }
 ],
 "metadata": {
  "kernelspec": {
   "display_name": "Python 3 (ipykernel)",
   "language": "python",
   "name": "python3"
  },
  "language_info": {
   "codemirror_mode": {
    "name": "ipython",
    "version": 3
   },
   "file_extension": ".py",
   "mimetype": "text/x-python",
   "name": "python",
   "nbconvert_exporter": "python",
   "pygments_lexer": "ipython3",
   "version": "3.11.9"
  }
 },
 "nbformat": 4,
 "nbformat_minor": 5
}
