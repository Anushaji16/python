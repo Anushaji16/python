{
 "cells": [
  {
   "cell_type": "code",
   "execution_count": 21,
   "id": "675f6c41-0478-4a7b-8bea-ea19a04f0489",
   "metadata": {},
   "outputs": [
    {
     "name": "stdin",
     "output_type": "stream",
     "text": [
      "Enter a line of text: hi good morning python hi\n"
     ]
    },
    {
     "name": "stdout",
     "output_type": "stream",
     "text": [
      "occurence:\n",
      "hi : 2\n",
      "good : 1\n",
      "morning : 1\n",
      "python : 1\n"
     ]
    }
   ],
   "source": [
    "#count the occurrence of each word in a line of text\n",
    "text=input(\"Enter a line of text:\")\n",
    "words=text.split()\n",
    "word_count={}\n",
    "print(\"occurence:\")\n",
    "for word in words:\n",
    "   if word in word_count:\n",
    "      word_count[word]+=1\n",
    "   else:\n",
    "      word_count[word]=1\n",
    "for word in word_count:       \n",
    "   print(word,\":\",word_count[word])"
   ]
  },
  {
   "cell_type": "code",
   "execution_count": 23,
   "id": "8f7ca184-30e6-4955-8656-f8570ddc4d49",
   "metadata": {},
   "outputs": [
    {
     "name": "stdin",
     "output_type": "stream",
     "text": [
      "Enter the integers 56 150 200 99\n"
     ]
    },
    {
     "name": "stdout",
     "output_type": "stream",
     "text": [
      "modified list [56, 'over', 'over', 99]\n"
     ]
    }
   ],
   "source": [
    "#prompt the user for a list of integers.for all values greater than 100,store'over'instead.\n",
    "num=list(map(int,input(\"Enter the integers\").split()))\n",
    "new_list=[]\n",
    "for n in num:\n",
    "    if n>100:\n",
    "        new_list.append(\"over\")\n",
    "    else:\n",
    "        new_list.append(n)\n",
    "print( \"modified list\",new_list)\n"
   ]
  },
  {
   "cell_type": "code",
   "execution_count": 29,
   "id": "22c7f90a-8f3c-4efc-8091-562ad1d39078",
   "metadata": {},
   "outputs": [
    {
     "name": "stdin",
     "output_type": "stream",
     "text": [
      "Enter the first names anu,ancy,anaya\n"
     ]
    },
    {
     "name": "stdout",
     "output_type": "stream",
     "text": [
      "total number of \"a\" letters in all names: 5\n"
     ]
    }
   ],
   "source": [
    "#store a list of first names.count the occurrences of 'a' within the list\n",
    "names=input(\"Enter the first names\").split(\",\")\n",
    "count=0\n",
    "for name in names:\n",
    " names_1=name.lower()\n",
    " count=count+names_1.count(\"a\")\n",
    "\n",
    "print ('total number of \"a\" letters in all names:',count)"
   ]
  },
  {
   "cell_type": "code",
   "execution_count": 27,
   "id": "7b261472-23c8-4bfc-819d-f17d3d09a6f7",
   "metadata": {},
   "outputs": [
    {
     "name": "stdin",
     "output_type": "stream",
     "text": [
      "Enter first number: 4\n",
      "Enter second number: 2\n"
     ]
    },
    {
     "name": "stdout",
     "output_type": "stream",
     "text": [
      "GCD is: 2\n"
     ]
    }
   ],
   "source": [
    "#find gcd of 2 numbers.\n",
    "\n",
    "a=int(input(\"Enter first number:\"))\n",
    "b=int(input(\"Enter second number:\"))\n",
    "while b!=0:\n",
    " a,b=b,a%b\n",
    "print(\"GCD is:\",a)"
   ]
  },
  {
   "cell_type": "code",
   "execution_count": 3,
   "id": "07f4d089-95cc-4b1b-8061-c95ed2013fd2",
   "metadata": {},
   "outputs": [
    {
     "name": "stdin",
     "output_type": "stream",
     "text": [
      "Enter the numbers 1,2,3,4,5,6,7\n"
     ]
    },
    {
     "name": "stdout",
     "output_type": "stream",
     "text": [
      "The new list removed even numbers: [1, 3, 5, 7]\n"
     ]
    }
   ],
   "source": [
    "# from a list of integers,create a list removing even numbers.\n",
    "num=input(\"Enter the numbers\").split(\",\")\n",
    "num1=list(map(int,num))\n",
    "\n",
    "odd_numbers=[]\n",
    "for n in num1:\n",
    "    if n % 2 !=0:\n",
    "        odd_numbers.append(n)\n",
    "print(\"The new list removed even numbers:\",odd_numbers)"
   ]
  },
  {
   "cell_type": "code",
   "execution_count": 4,
   "id": "6accf45f-8287-4b19-880d-993d2d31bfb7",
   "metadata": {},
   "outputs": [
    {
     "name": "stdin",
     "output_type": "stream",
     "text": [
      "Enter a number: 5\n"
     ]
    },
    {
     "name": "stdout",
     "output_type": "stream",
     "text": [
      "The factoral of 5 is: 1\n"
     ]
    }
   ],
   "source": [
    "#program to find the factorial of a number\n",
    "num=int(input(\"Enter a number:\"))\n",
    "factorial=1\n",
    "for i in range(1,num+1):\n",
    "    factorial=1\n",
    "print(\"The factoral of\",num,\"is:\",factorial)"
   ]
  },
  {
   "cell_type": "code",
   "execution_count": 9,
   "id": "6479690d-a223-4e31-a635-87d501db97d2",
   "metadata": {},
   "outputs": [
    {
     "name": "stdin",
     "output_type": "stream",
     "text": [
      "Enter the numbers 2,4,6,5,4\n"
     ]
    },
    {
     "name": "stdout",
     "output_type": "stream",
     "text": [
      "sum of all items: 25\n"
     ]
    }
   ],
   "source": [
    "#find the sum of all items in a list.\n",
    "num=input(\"Enter the numbers\").split(',')\n",
    "nums=list(map(int,num))\n",
    "sum=0\n",
    "for num in nums:\n",
    "    sum=sum+i\n",
    "print(\"sum of all items:\",sum)\n"
   ]
  },
  {
   "cell_type": "code",
   "execution_count": 13,
   "id": "ca14d681-1cf3-4176-965b-fcc7ffd79e19",
   "metadata": {},
   "outputs": [
    {
     "name": "stdin",
     "output_type": "stream",
     "text": [
      "Enter start of range (4-digit number):  2000\n",
      "Enter end of range (4-digit number):  8000\n"
     ]
    },
    {
     "name": "stdout",
     "output_type": "stream",
     "text": [
      "Numbers found: [4624, 6084, 6400]\n"
     ]
    }
   ],
   "source": [
    "#generate a list of four digit numbers in a given range with all their digits even and the number is a perfect square.\n",
    "import math\n",
    "\n",
    "start = int(input(\"Enter start of range (4-digit number): \"))\n",
    "end = int(input(\"Enter end of range (4-digit number): \"))\n",
    "result = []\n",
    "\n",
    "for num in range(start, end + 1):\n",
    "    if 1000 <= num <= 9999:  \n",
    "        root = int(math.sqrt(num))\n",
    "        if root * root == num:  \n",
    "            digits = str(num)\n",
    "            all_even = True\n",
    "            for d in digits:\n",
    "                if int(d) % 2 != 0:  \n",
    "                    all_even = False\n",
    "                    break\n",
    "            if all_even:\n",
    "                result.append(num)\n",
    "\n",
    "print(\"Numbers found:\", result)\n",
    "\n",
    "        \n",
    "         \n",
    "    "
   ]
  },
  {
   "cell_type": "code",
   "execution_count": 17,
   "id": "45bcf515-bb7c-4028-b253-0947bd47d540",
   "metadata": {},
   "outputs": [
    {
     "name": "stdin",
     "output_type": "stream",
     "text": [
      "Enter a string: hi all\n"
     ]
    },
    {
     "name": "stdout",
     "output_type": "stream",
     "text": [
      "character freq:\n",
      "h : 1\n",
      "i : 1\n",
      "  : 1\n",
      "a : 1\n",
      "l : 2\n"
     ]
    }
   ],
   "source": [
    "#count the number of characters(character frequency)in a string.\n",
    "txt=input(\"Enter a string:\")\n",
    "freq={}\n",
    "for char in txt:\n",
    "    if char in freq:\n",
    "        freq[char]= freq[char]+1\n",
    "\n",
    "    else:\n",
    "        freq[char]=1\n",
    "print(\"character freq:\")\n",
    "for char in freq:\n",
    "    print(char,\":\",freq[char])\n",
    "     "
   ]
  },
  {
   "cell_type": "code",
   "execution_count": 10,
   "id": "04f08db5-7e6e-47d5-8e74-ae97df8a287a",
   "metadata": {},
   "outputs": [
    {
     "name": "stdin",
     "output_type": "stream",
     "text": [
      "Enter the number of steps: 4\n"
     ]
    },
    {
     "name": "stdout",
     "output_type": "stream",
     "text": [
      "1 \n",
      "2 4 \n",
      "3 6 9 \n",
      "4 8 12 16 \n"
     ]
    }
   ],
   "source": [
    "#display the given pyramid with step number accepted from user.\n",
    "\n",
    "steps = int(input(\"Enter the number of steps:\"))\n",
    "\n",
    "for i in range(1,steps + 1):\n",
    "    for j in range(1, i + 1):\n",
    "        print(i * j,end=' ')\n",
    "    print()"
   ]
  },
  {
   "cell_type": "code",
   "execution_count": 19,
   "id": "bf8caa62-f655-40c3-9665-ce8a909b1b55",
   "metadata": {},
   "outputs": [
    {
     "name": "stdin",
     "output_type": "stream",
     "text": [
      "Enter the number:  5\n"
     ]
    },
    {
     "name": "stdout",
     "output_type": "stream",
     "text": [
      "Fibonacci series:\n",
      "0 1 1 2 3 "
     ]
    }
   ],
   "source": [
    "N = int(input(\"Enter the number: \"))\n",
    "a, b = 0, 1\n",
    "print(\"Fibonacci series:\")\n",
    "\n",
    "for i in range(N):\n",
    "    print(a, end=\" \")\n",
    "    a, b = b, a + b"
   ]
  },
  {
   "cell_type": "code",
   "execution_count": null,
   "id": "3064a194-e530-4299-bf91-1418c6444cfa",
   "metadata": {},
   "outputs": [],
   "source": []
  }
 ],
 "metadata": {
  "kernelspec": {
   "display_name": "Python 3 (ipykernel)",
   "language": "python",
   "name": "python3"
  },
  "language_info": {
   "codemirror_mode": {
    "name": "ipython",
    "version": 3
   },
   "file_extension": ".py",
   "mimetype": "text/x-python",
   "name": "python",
   "nbconvert_exporter": "python",
   "pygments_lexer": "ipython3",
   "version": "3.11.9"
  }
 },
 "nbformat": 4,
 "nbformat_minor": 5
}
