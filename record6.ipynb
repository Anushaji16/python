{
 "cells": [
  {
   "cell_type": "code",
   "execution_count": 1,
   "id": "66b0c1a1-8868-4e06-9c2b-803f0a669ef4",
   "metadata": {},
   "outputs": [
    {
     "name": "stdout",
     "output_type": "stream",
     "text": [
      "Even_numbers: (2, 4, 6, 8, 10, 12, 14, 16, 18, 20, 22, 24)\n",
      "sum of even numbers: 156\n"
     ]
    }
   ],
   "source": [
    "#write a python program to print all even numbers from 1 to25 and calculate sum.(using the range()function directly without a loop or conditions)\n",
    "\n",
    "even_numbers= tuple(range(2,26,2))\n",
    "total_sum=sum(even_numbers)\n",
    "print(\"Even_numbers:\",even_numbers)\n",
    "print(\"sum of even numbers:\",total_sum)"
   ]
  },
  {
   "cell_type": "code",
   "execution_count": 6,
   "id": "10855e41-5000-40c2-bd7f-7420161c5174",
   "metadata": {},
   "outputs": [
    {
     "name": "stdin",
     "output_type": "stream",
     "text": [
      "enter a range 10\n"
     ]
    },
    {
     "name": "stdout",
     "output_type": "stream",
     "text": [
      "numbers in reverse order: (10, 9, 8, 7, 6, 5, 4, 3, 2, 1)\n",
      "sum of numbers 55\n"
     ]
    }
   ],
   "source": [
    "# write a python program to print all in reverse order and calculate their sum\n",
    "n=int(input(\"enter a range\"))\n",
    "numbers=tuple(range(n,0,-1))\n",
    "total_sum=sum(numbers)\n",
    "print(\"numbers in reverse order:\",numbers)\n",
    "print(\"sum of numbers\",total_sum)"
   ]
  },
  {
   "cell_type": "code",
   "execution_count": null,
   "id": "1bf9b421-1f4e-4f54-b098-51b46f47113f",
   "metadata": {},
   "outputs": [],
   "source": []
  }
 ],
 "metadata": {
  "kernelspec": {
   "display_name": "Python 3 (ipykernel)",
   "language": "python",
   "name": "python3"
  },
  "language_info": {
   "codemirror_mode": {
    "name": "ipython",
    "version": 3
   },
   "file_extension": ".py",
   "mimetype": "text/x-python",
   "name": "python",
   "nbconvert_exporter": "python",
   "pygments_lexer": "ipython3",
   "version": "3.11.9"
  }
 },
 "nbformat": 4,
 "nbformat_minor": 5
}
