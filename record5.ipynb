{
 "cells": [
  {
   "cell_type": "code",
   "execution_count": 2,
   "id": "bd5321fd-571f-4500-8cb2-ea6410de2c5a",
   "metadata": {},
   "outputs": [
    {
     "name": "stdin",
     "output_type": "stream",
     "text": [
      "enter three colors red,yellow,blue\n"
     ]
    },
    {
     "name": "stdout",
     "output_type": "stream",
     "text": [
      "First color: red\n",
      "Last color: blue\n"
     ]
    }
   ],
   "source": [
    "#Create a list of colors from comma-separated color names entered by user,Display first and last colors\n",
    "\n",
    "colors=input(\"enter three colors\")\n",
    "color_list=colors.split(\",\")\n",
    "\n",
    "print(\"First color:\",color_list[0])\n",
    "print(\"Last color:\",color_list[2])"
   ]
  },
  {
   "cell_type": "code",
   "execution_count": 3,
   "id": "520f0b4e-eab0-42ae-8e48-795c536ad7e3",
   "metadata": {},
   "outputs": [
    {
     "name": "stdin",
     "output_type": "stream",
     "text": [
      "enter a file name python\n"
     ]
    },
    {
     "name": "stdout",
     "output_type": "stream",
     "text": [
      "File Extension: python\n"
     ]
    }
   ],
   "source": [
    "#write a python program to accept a filename from the user,print extension of that\n",
    "\n",
    "filename=input(\"enter a file name\")\n",
    "extension= filename.split(\".\")[-1]\n",
    "print(\"File Extension:\",extension)"
   ]
  },
  {
   "cell_type": "code",
   "execution_count": 4,
   "id": "b6ac3e2b-743d-4f36-b564-6698d2adf294",
   "metadata": {},
   "outputs": [
    {
     "name": "stdin",
     "output_type": "stream",
     "text": [
      "enter a numbers 2,3,6,7,5\n"
     ]
    },
    {
     "name": "stdout",
     "output_type": "stream",
     "text": [
      "List: [2, 3, 6, 7, 5]\n",
      "sum of items 23\n"
     ]
    }
   ],
   "source": [
    "#write a python program to accept a sequence comma-separated numbers from user and generate  list with those numbers and find sum of all items in that list\n",
    "\n",
    "numbers=input(\"enter a numbers\")\n",
    "num_list=list(map(int, numbers.split(\",\")))\n",
    "\n",
    "total=sum(num_list)\n",
    "\n",
    "print(\"List:\",num_list)\n",
    "print(\"sum of items\",total)"
   ]
  },
  {
   "cell_type": "code",
   "execution_count": null,
   "id": "e3198e1f-06cc-4f52-a498-87498193d193",
   "metadata": {},
   "outputs": [],
   "source": []
  }
 ],
 "metadata": {
  "kernelspec": {
   "display_name": "Python 3 (ipykernel)",
   "language": "python",
   "name": "python3"
  },
  "language_info": {
   "codemirror_mode": {
    "name": "ipython",
    "version": 3
   },
   "file_extension": ".py",
   "mimetype": "text/x-python",
   "name": "python",
   "nbconvert_exporter": "python",
   "pygments_lexer": "ipython3",
   "version": "3.11.9"
  }
 },
 "nbformat": 4,
 "nbformat_minor": 5
}
