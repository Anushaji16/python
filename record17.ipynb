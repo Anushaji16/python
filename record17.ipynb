{
 "cells": [
  {
   "cell_type": "code",
   "execution_count": 11,
   "id": "8527b209-9880-4510-9cc5-d81e48125fc8",
   "metadata": {},
   "outputs": [
    {
     "name": "stdin",
     "output_type": "stream",
     "text": [
      "Enter publisher name: aw\n",
      "Enter book title: twningling\n",
      "Enter author name: alexander\n",
      "Enter price: 599\n",
      "Enter number of pages: 300\n"
     ]
    },
    {
     "name": "stdout",
     "output_type": "stream",
     "text": [
      "publisher name: aw\n",
      "book title: twningling\n",
      "Author name: alexander\n",
      "Book price: 599.0\n",
      "NO.of pages: 300\n"
     ]
    }
   ],
   "source": [
    "#create a class publisher(name).Derived class book from publisher with attributes title and author.derived class python from book with arttributes price and no_of_pages.write a program that displays information abouta python book.use base class constructor invocation and method overriding.\n",
    "\n",
    "class publisher:\n",
    "   def __init__(self,name):\n",
    "      self.name=name\n",
    "   def display(self):\n",
    "    print(\"publisher name:\",self.name)\n",
    "class book(publisher):\n",
    "    def __init__(self,name,title,author):\n",
    "       super().__init__(name)\n",
    "       self.title=title\n",
    "       self.author=author\n",
    "    def display(self):\n",
    "        super().display()\n",
    "        print(\"book title:\",self.title)\n",
    "        print(\"Author name:\",self.author)\n",
    "class python(book):\n",
    "    def __init__(self,name,title,author,price,no_of_pages):\n",
    "        super().__init__(name,title,author)\n",
    "        self.price=price\n",
    "        self.no_of_pages=no_of_pages\n",
    "\n",
    "    def display(self):\n",
    "        super().display()\n",
    "        print(\"Book price:\",self.price)\n",
    "        print(\"NO.of pages:\",self.no_of_pages)\n",
    "\n",
    "name=input(\"Enter publisher name:\")\n",
    "title=input(\"Enter book title:\")\n",
    "author=input(\"Enter author name:\")\n",
    "price=float(input(\"Enter price:\"))\n",
    "no_of_pages=int(input(\"Enter number of pages:\"))\n",
    "\n",
    "a=python(name,title,author,price,no_of_pages)\n",
    "a.display()"
   ]
  },
  {
   "cell_type": "code",
   "execution_count": null,
   "id": "31b0fbd3-a8ea-4c90-afcc-c150839a2ff1",
   "metadata": {},
   "outputs": [],
   "source": []
  }
 ],
 "metadata": {
  "kernelspec": {
   "display_name": "Python 3 (ipykernel)",
   "language": "python",
   "name": "python3"
  },
  "language_info": {
   "codemirror_mode": {
    "name": "ipython",
    "version": 3
   },
   "file_extension": ".py",
   "mimetype": "text/x-python",
   "name": "python",
   "nbconvert_exporter": "python",
   "pygments_lexer": "ipython3",
   "version": "3.11.9"
  }
 },
 "nbformat": 4,
 "nbformat_minor": 5
}
