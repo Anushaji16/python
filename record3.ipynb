{
 "cells": [
  {
   "cell_type": "code",
   "execution_count": null,
   "id": "30f8c392-09bf-41d4-a2a8-ba4b1ee75e47",
   "metadata": {},
   "outputs": [],
   "source": [
    "#write a program to find the biggest of three numbers(use max())\n",
    "a=int(input(\"Enter the first number:\"))\n",
    "b=int(input(\"Enter the second number:\"))       \n",
    "c=int(input(\"Enter the third number:\"))\n",
    "big=max(a,b,c)\n",
    "print(\"The biggest number is:\",big)"
   ]
  },
  {
   "cell_type": "code",
   "execution_count": null,
   "id": "65cc8baf-1e3f-44e9-b747-64b2b5b6bd39",
   "metadata": {},
   "outputs": [],
   "source": [
    "#write a program to find the biggest of three numbers(use max())\n",
    "a=int(input(\"Enter the first number:\"))\n",
    "b=int(input(\"Enter the second number:\"))       \n",
    "c=int(input(\"Enter the third number:\"))\n",
    "big=max(a,b,c)\n",
    "print(\"The biggest number is:\",big)\n"
   ]
  },
  {
   "cell_type": "code",
   "execution_count": null,
   "id": "8c21c6a1-5e7d-4d0d-bc69-e422859ac198",
   "metadata": {},
   "outputs": [],
   "source": []
  }
 ],
 "metadata": {
  "kernelspec": {
   "display_name": "Python 3 (ipykernel)",
   "language": "python",
   "name": "python3"
  },
  "language_info": {
   "codemirror_mode": {
    "name": "ipython",
    "version": 3
   },
   "file_extension": ".py",
   "mimetype": "text/x-python",
   "name": "python",
   "nbconvert_exporter": "python",
   "pygments_lexer": "ipython3",
   "version": "3.11.9"
  }
 },
 "nbformat": 4,
 "nbformat_minor": 5
}
