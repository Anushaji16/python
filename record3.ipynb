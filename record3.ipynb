{
 "cells": [
  {
   "cell_type": "code",
   "execution_count": 1,
   "id": "27cabeec-51e5-4d28-86d7-093e65999af0",
   "metadata": {},
   "outputs": [
    {
     "name": "stdin",
     "output_type": "stream",
     "text": [
      "Enter the first number: 7\n",
      "Enter the second number: 5\n",
      "Enter the third number: 3\n"
     ]
    },
    {
     "name": "stdout",
     "output_type": "stream",
     "text": [
      "The biggest number is: 7\n"
     ]
    }
   ],
   "source": [
    "#write a program to find the biggest of three numbers(use max())\n",
    "a=int(input(\"Enter the first number:\"))\n",
    "b=int(input(\"Enter the second number:\"))       \n",
    "c=int(input(\"Enter the third number:\"))\n",
    "big=max(a,b,c)\n",
    "print(\"The biggest number is:\",big)\n"
   ]
  },
  {
   "cell_type": "code",
   "execution_count": null,
   "id": "e723fa82-55ad-4cb1-8eb2-334e01e924cf",
   "metadata": {},
   "outputs": [],
   "source": []
  }
 ],
 "metadata": {
  "kernelspec": {
   "display_name": "Python 3 (ipykernel)",
   "language": "python",
   "name": "python3"
  },
  "language_info": {
   "codemirror_mode": {
    "name": "ipython",
    "version": 3
   },
   "file_extension": ".py",
   "mimetype": "text/x-python",
   "name": "python",
   "nbconvert_exporter": "python",
   "pygments_lexer": "ipython3",
   "version": "3.11.9"
  }
 },
 "nbformat": 4,
 "nbformat_minor": 5
}
