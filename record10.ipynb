{
 "cells": [
  {
   "cell_type": "code",
   "execution_count": 2,
   "id": "d8a87651-4a7c-4da9-ba6a-1f5bb3dbf866",
   "metadata": {},
   "outputs": [
    {
     "name": "stdin",
     "output_type": "stream",
     "text": [
      "Enter the first list 2 3 4 5\n",
      "Enter the second list 6 7 8 3\n"
     ]
    },
    {
     "name": "stdout",
     "output_type": "stream",
     "text": [
      "both lists are same length.\n",
      "both lists sum not same value.\n",
      "both list have common {3}\n"
     ]
    }
   ],
   "source": [
    "# ENTER 2 lists of integers.check(a) wheather list are of same length(b)wheather list sums to sdame value(c) wheather any value occur in both.\n",
    "list1=list(map(int,input(\"Enter the first list\").split()))\n",
    "list2=list(map(int,input(\"Enter the second list\").split()))\n",
    "if len(list1)==len(list2):\n",
    "    print(\"both lists are same length.\")\n",
    "else:\n",
    "   print(\"lists are of different length.\")\n",
    "if sum(list1)==sum(list2):\n",
    "    print(\"both lists sum to the same value.\")\n",
    "else:\n",
    "    print(\"both lists sum not same value.\")\n",
    "    \n",
    "common=set(list1)&set(list2)\n",
    "if common:\n",
    "    print(\"both list have common\",common)\n",
    "else:\n",
    "    print(\"no common in both list\")\n",
    "    \n",
    "    \n"
   ]
  },
  {
   "cell_type": "code",
   "execution_count": 13,
   "id": "a5a7e6d3-66db-4a25-a8cc-b4f95d4322ac",
   "metadata": {},
   "outputs": [
    {
     "name": "stdin",
     "output_type": "stream",
     "text": [
      "Enter a string: gameing\n"
     ]
    },
    {
     "name": "stdout",
     "output_type": "stream",
     "text": [
      "modified string: gameingly\n"
     ]
    }
   ],
   "source": [
    "#add'ing' at the end of a given string. if it already ends with 'ing',then add 'ly'\n",
    "s= input(\"Enter a string:\")\n",
    "if s.endswith(\"ing\"):\n",
    "    s= s+\"ly\"\n",
    "else:\n",
    "  s=s+\"ing\"\n",
    "print(\"modified string:\", s)\n",
    "  "
   ]
  },
  {
   "cell_type": "code",
   "execution_count": null,
   "id": "dc781e66-44e1-4498-b3f5-589d2c14cfdf",
   "metadata": {},
   "outputs": [],
   "source": []
  }
 ],
 "metadata": {
  "kernelspec": {
   "display_name": "Python 3 (ipykernel)",
   "language": "python",
   "name": "python3"
  },
  "language_info": {
   "codemirror_mode": {
    "name": "ipython",
    "version": 3
   },
   "file_extension": ".py",
   "mimetype": "text/x-python",
   "name": "python",
   "nbconvert_exporter": "python",
   "pygments_lexer": "ipython3",
   "version": "3.11.9"
  }
 },
 "nbformat": 4,
 "nbformat_minor": 5
}
