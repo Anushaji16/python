{
 "cells": [
  {
   "cell_type": "code",
   "execution_count": 15,
   "id": "740305f6-d731-418d-aed5-9c4e8e8adf53",
   "metadata": {},
   "outputs": [
    {
     "name": "stdin",
     "output_type": "stream",
     "text": [
      "Enter name: ancy\n",
      "Enter roll number: 13\n",
      "Enter name: anitha\n",
      "Enter roll number: 1\n",
      "Enter name: anaya\n",
      "Enter roll number: 17\n",
      "Enter name: abiona\n",
      "Enter roll number: 6\n",
      "Enter name: sruthi\n",
      "Enter roll number: 11\n"
     ]
    },
    {
     "name": "stdout",
     "output_type": "stream",
     "text": [
      "students name and roll number {13: 'ancy', 1: 'anitha', 17: 'anaya', 6: 'abiona', 11: 'sruthi'}\n",
      "\n",
      " Ascending order:\n",
      "{1: 'anitha', 6: 'abiona', 11: 'sruthi', 13: 'ancy', 17: 'anaya'}\n",
      "\n",
      " Descending order:\n",
      "{17: 'anaya', 13: 'ancy', 11: 'sruthi', 6: 'abiona', 1: 'anitha'}\n"
     ]
    }
   ],
   "source": [
    "# write a python program to accept 5 students'names and roll numbers,and map these into a dictionary\n",
    "students={}\n",
    "name=input(\"Enter name:\")\n",
    "roll=int(input(\"Enter roll number:\"))\n",
    "students[roll]=name\n",
    "\n",
    "name=input(\"Enter name:\")\n",
    "roll=int(input(\"Enter roll number:\"))\n",
    "students[roll]=name\n",
    "\n",
    "name=input(\"Enter name:\")\n",
    "roll=int(input(\"Enter roll number:\"))\n",
    "students[roll]=name\n",
    "\n",
    "name=input(\"Enter name:\")\n",
    "roll=int(input(\"Enter roll number:\"))\n",
    "students[roll]=name\n",
    "\n",
    "name=input(\"Enter name:\")\n",
    "roll=int(input(\"Enter roll number:\"))\n",
    "students[roll]=name\n",
    "\n",
    "print(\"students name and roll number\",students)\n",
    "\n",
    "print(\"\\n Ascending order:\")\n",
    "print(dict(sorted(students.items())))\n",
    "print(\"\\n Descending order:\")\n",
    "print(dict(sorted(students.items(),reverse=True)))\n"
   ]
  },
  {
   "cell_type": "code",
   "execution_count": null,
   "id": "8141f960-ce59-4fa0-b030-311a36e69cc2",
   "metadata": {},
   "outputs": [],
   "source": []
  },
  {
   "cell_type": "code",
   "execution_count": 14,
   "id": "f44c3864-c5a9-4333-a26a-56e4a104fc83",
   "metadata": {},
   "outputs": [
    {
     "name": "stdin",
     "output_type": "stream",
     "text": [
      "Enter a name ancy\n",
      "Enter a roll number 7\n",
      "Enter a name kavya\n",
      "Enter a roll number 11\n",
      "Enter a name sona\n",
      "Enter a roll number 13\n",
      "Enter a name anitha\n",
      "Enter a roll number 1\n",
      "Enter a name anaya\n",
      "Enter a roll number 5\n"
     ]
    },
    {
     "name": "stdout",
     "output_type": "stream",
     "text": [
      "dict1= {7: 'ancy', 11: 'kavya', 13: 'sona'}\n",
      "dict2= {5: 'anaya'}\n",
      "after merging {7: 'ancy', 11: 'kavya', 13: 'sona', 5: 'anaya'}\n"
     ]
    }
   ],
   "source": [
    "#write a python program to accept 2 dictionaries(dict1 contains 3 students'names and roll numbers,and dic2 contains 2 sudents' names and roll numbers).merge 2 dictionaries AND DISPLAY it [use update()]\n",
    "dict1={}\n",
    "name=input(\"Enter a name\")\n",
    "roll=int(input(\"Enter a roll number\"))\n",
    "dict1[roll]=name\n",
    "\n",
    "name=input(\"Enter a name\")\n",
    "roll=int(input(\"Enter a roll number\"))\n",
    "dict1[roll]=name\n",
    "\n",
    "name=input(\"Enter a name\")\n",
    "roll=int(input(\"Enter a roll number\"))\n",
    "dict1[roll]=name\n",
    "\n",
    "dict2={}\n",
    "name=input(\"Enter a name\")\n",
    "roll=int(input(\"Enter a roll number\"))\n",
    "dict2[roll]=name\n",
    "\n",
    "\n",
    "name=input(\"Enter a name\")\n",
    "roll=int(input(\"Enter a roll number\"))\n",
    "dict2[roll]=name\n",
    "\n",
    "print(\"dict1=\",dict1)\n",
    "print(\"dict2=\",dict2)\n",
    "\n",
    "dict1.update(dict2)\n",
    "print(\"after merging\",dict1)\n"
   ]
  },
  {
   "cell_type": "code",
   "execution_count": null,
   "id": "a85c7229-331a-4162-b51f-ac243efec30d",
   "metadata": {},
   "outputs": [],
   "source": []
  }
 ],
 "metadata": {
  "kernelspec": {
   "display_name": "Python 3 (ipykernel)",
   "language": "python",
   "name": "python3"
  },
  "language_info": {
   "codemirror_mode": {
    "name": "ipython",
    "version": 3
   },
   "file_extension": ".py",
   "mimetype": "text/x-python",
   "name": "python",
   "nbconvert_exporter": "python",
   "pygments_lexer": "ipython3",
   "version": "3.11.9"
  }
 },
 "nbformat": 4,
 "nbformat_minor": 5
}
