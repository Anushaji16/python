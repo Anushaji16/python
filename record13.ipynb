{
 "cells": [
  {
   "cell_type": "code",
   "execution_count": 1,
   "id": "e7481bc7-8d53-4ef8-b60e-72e97c2130cc",
   "metadata": {},
   "outputs": [
    {
     "name": "stdin",
     "output_type": "stream",
     "text": [
      "enter the words anu,amitha,karuna, drishya\n"
     ]
    },
    {
     "name": "stdout",
     "output_type": "stream",
     "text": [
      "Words in list: ['anu', 'amitha', 'karuna', ' drishya']\n",
      "Length of the longest word: 8\n"
     ]
    }
   ],
   "source": [
    "#Accept a list of words and return length of longest word.using function\n",
    "\n",
    "def longest_word_length(words):\n",
    "    return max(len(word) for word in words)\n",
    "\n",
    "words=input(\"enter the words\").split(\",\")\n",
    "print(\"Words in list:\",words)\n",
    "print(\"Length of the longest word:\",longest_word_length(words))"
   ]
  },
  {
   "cell_type": "code",
   "execution_count": 2,
   "id": "319429b9-3204-49a5-a12f-7a9559aa93c6",
   "metadata": {},
   "outputs": [
    {
     "name": "stdout",
     "output_type": "stream",
     "text": [
      "* \n",
      "* * \n",
      "* * * \n",
      "* * * * \n",
      "* * * * * \n",
      "* * * * \n",
      "* * * \n",
      "* * \n",
      "* \n"
     ]
    }
   ],
   "source": [
    "#Construct following pattern using nested loop \n",
    "#              * \n",
    "#              *  * \n",
    "#              *  *  * \n",
    "#              *  *  *  * \n",
    "#              *  *  *  *  * \n",
    "#              *  *  *  * \n",
    "#              *  *  * \n",
    "#              *  * \n",
    "#              *\n",
    "\n",
    "rows=5\n",
    "for i in range(1,rows + 1):\n",
    "    for j in range(i):\n",
    "        print(\"*\", end=\" \")\n",
    "    print()\n",
    "    \n",
    "for i in range(rows -1,0,-1):\n",
    "    for j in range(i):\n",
    "        print(\"*\", end=\" \")\n",
    "    print()"
   ]
  },
  {
   "cell_type": "code",
   "execution_count": 1,
   "id": "127519c4-2764-49e5-8fcf-00af8bfd224f",
   "metadata": {},
   "outputs": [
    {
     "name": "stdin",
     "output_type": "stream",
     "text": [
      "Enter any values: 6\n"
     ]
    },
    {
     "name": "stdout",
     "output_type": "stream",
     "text": [
      "Factors of  6 are: [1, 2, 3, 6]\n"
     ]
    }
   ],
   "source": [
    "#Generate all factors of a number.\n",
    "num=int(input(\"Enter any values:\"))\n",
    "def factor(num):\n",
    "      return[i for i in range(1,num+1) if num%i==0]\n",
    "    \n",
    "print(\"Factors of \",num,\"are:\",factor(num))"
   ]
  },
  {
   "cell_type": "code",
   "execution_count": 1,
   "id": "842238a6-29c3-4e60-bab4-1edd2bbf393a",
   "metadata": {},
   "outputs": [
    {
     "name": "stdin",
     "output_type": "stream",
     "text": [
      "Enter the side of square 25\n"
     ]
    },
    {
     "name": "stdout",
     "output_type": "stream",
     "text": [
      "The area of square: 625\n"
     ]
    },
    {
     "name": "stdin",
     "output_type": "stream",
     "text": [
      "Enter the length of rectangle 7\n",
      "Enter th width of rectangle 4\n"
     ]
    },
    {
     "name": "stdout",
     "output_type": "stream",
     "text": [
      "The area of rectangle: 28\n"
     ]
    },
    {
     "name": "stdin",
     "output_type": "stream",
     "text": [
      "Enter the base of triangle 3\n",
      "Enter the height of triangle 10\n"
     ]
    },
    {
     "name": "stdout",
     "output_type": "stream",
     "text": [
      "The area of triangle: 15.0\n"
     ]
    }
   ],
   "source": [
    "#Write lambda functions to find area of square, rectangle and triangle.\n",
    "\n",
    "square= lambda a:a*a\n",
    "rectangle= lambda l,w : l*w\n",
    "triangle= lambda b,h :0.5*b*h\n",
    "    \n",
    "a=int(input(\"Enter the side of square\"))\n",
    "print(\"The area of square:\",square(a))\n",
    "l=int(input(\"Enter the length of rectangle\"))\n",
    "w=int(input(\"Enter th width of rectangle\"))\n",
    "print(\"The area of rectangle:\",rectangle(l,w))\n",
    "\n",
    "b=int(input(\"Enter the base of triangle\"))\n",
    "h=int(input(\"Enter the height of triangle\"))\n",
    "print(\"The area of triangle:\",triangle(b,h))\n",
    "\n",
    "\n",
    "    \n"
   ]
  },
  {
   "cell_type": "code",
   "execution_count": null,
   "id": "6ed359cb-f47f-4cdc-aa99-3ed9a1c56da1",
   "metadata": {},
   "outputs": [],
   "source": []
  }
 ],
 "metadata": {
  "kernelspec": {
   "display_name": "Python 3 (ipykernel)",
   "language": "python",
   "name": "python3"
  },
  "language_info": {
   "codemirror_mode": {
    "name": "ipython",
    "version": 3
   },
   "file_extension": ".py",
   "mimetype": "text/x-python",
   "name": "python",
   "nbconvert_exporter": "python",
   "pygments_lexer": "ipython3",
   "version": "3.11.9"
  }
 },
 "nbformat": 4,
 "nbformat_minor": 5
}
