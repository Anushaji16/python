{
 "cells": [
  {
   "cell_type": "code",
   "execution_count": 15,
   "id": "ab07fdf8-c632-46a2-9f3d-86c570fd9781",
   "metadata": {},
   "outputs": [
    {
     "name": "stdin",
     "output_type": "stream",
     "text": [
      "Enter an integer numbers: 5\n"
     ]
    },
    {
     "name": "stdout",
     "output_type": "stream",
     "text": [
      "5+55+555 = 615\n"
     ]
    }
   ],
   "source": [
    "# write a python that accepts an integer(n) and computes the value of n+nn+nnn\n",
    "n= int(input(\"Enter an integer numbers:\"))\n",
    "nn=n*10+n\n",
    "nnn=n*100+nn\n",
    "result=n+nn+nnn\n",
    "print(\"5+55+555 =\",result)"
   ]
  },
  {
   "cell_type": "code",
   "execution_count": 6,
   "id": "cc8f19e3-c51a-47cb-9c91-38ac71f1783c",
   "metadata": {},
   "outputs": [
    {
     "name": "stdin",
     "output_type": "stream",
     "text": [
      "Enter the radius: 0.4\n"
     ]
    },
    {
     "name": "stdout",
     "output_type": "stream",
     "text": [
      "Area of the circle: 0.5\n"
     ]
    }
   ],
   "source": [
    "# input the radius of a circle and compute the area[importmath]\n",
    "\n",
    "import math\n",
    "rad=float(input(\"Enter the radius:\"))\n",
    "area=(math.pi*rad*rad)\n",
    "print(\"Area of the circle:\",round(area,2))\n"
   ]
  },
  {
   "cell_type": "code",
   "execution_count": null,
   "id": "7c875017-3b05-4eb3-b242-65880c6ab696",
   "metadata": {},
   "outputs": [],
   "source": []
  }
 ],
 "metadata": {
  "kernelspec": {
   "display_name": "Python 3 (ipykernel)",
   "language": "python",
   "name": "python3"
  },
  "language_info": {
   "codemirror_mode": {
    "name": "ipython",
    "version": 3
   },
   "file_extension": ".py",
   "mimetype": "text/x-python",
   "name": "python",
   "nbconvert_exporter": "python",
   "pygments_lexer": "ipython3",
   "version": "3.11.9"
  }
 },
 "nbformat": 4,
 "nbformat_minor": 5
}
