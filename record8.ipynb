{
 "cells": [
  {
   "cell_type": "code",
   "execution_count": 1,
   "id": "f3782257-ec00-46ce-afa2-e5222e759169",
   "metadata": {},
   "outputs": [
    {
     "name": "stdin",
     "output_type": "stream",
     "text": [
      "Enter a colors for set1 yellow,blue,green,white\n",
      "Enter a colors for set2 red,lavander,black,brown,indigo\n"
     ]
    },
    {
     "name": "stdout",
     "output_type": "stream",
     "text": [
      "colors in set1, but not in set2 {'yellow', 'blue', 'green', 'white'}\n"
     ]
    }
   ],
   "source": [
    "#write a python program to printout all colors from color set 1 not contained in color set2\n",
    "\n",
    "color_set1=set(input(\"Enter a colors for set1\").split(\",\"))\n",
    "color_set2=set(input(\"Enter a colors for set2\").split(\",\"))\n",
    "\n",
    "difference= color_set1 - color_set2\n",
    "\n",
    "print(\"colors in set1, but not in set2\",difference)\n",
    "\n"
   ]
  },
  {
   "cell_type": "code",
   "execution_count": 2,
   "id": "d2ae7920-eb61-4482-bffb-ecc402ba9e47",
   "metadata": {},
   "outputs": [
    {
     "name": "stdin",
     "output_type": "stream",
     "text": [
      "Enter a colors for set1 red,blue,black\n",
      "Enter a colors for set2 brown,yellow,white\n"
     ]
    },
    {
     "name": "stdout",
     "output_type": "stream",
     "text": [
      "All colors from set1 and set2 {'red', 'white', 'brown', 'yellow', 'black', 'blue'}\n"
     ]
    }
   ],
   "source": [
    "#write a python program to printout all colors from color set 1 and color set2\n",
    "\n",
    "color_set1=set(input(\"Enter a colors for set1\").split(\",\"))\n",
    "color_set2=set(input(\"Enter a colors for set2\").split(\",\"))\n",
    "\n",
    "all_colors= color_set1 | color_set2 \n",
    "print(\"All colors from set1 and set2\",all_colors)"
   ]
  },
  {
   "cell_type": "code",
   "execution_count": null,
   "id": "7a322dfe-e443-4718-a6b6-895aeb41fd4f",
   "metadata": {},
   "outputs": [],
   "source": []
  }
 ],
 "metadata": {
  "kernelspec": {
   "display_name": "Python 3 (ipykernel)",
   "language": "python",
   "name": "python3"
  },
  "language_info": {
   "codemirror_mode": {
    "name": "ipython",
    "version": 3
   },
   "file_extension": ".py",
   "mimetype": "text/x-python",
   "name": "python",
   "nbconvert_exporter": "python",
   "pygments_lexer": "ipython3",
   "version": "3.11.9"
  }
 },
 "nbformat": 4,
 "nbformat_minor": 5
}
