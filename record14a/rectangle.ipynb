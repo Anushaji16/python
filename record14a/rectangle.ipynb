{
 "cells": [
  {
   "cell_type": "code",
   "execution_count": null,
   "id": "3fe929b4-18ac-4e93-88f5-d62c3ec16766",
   "metadata": {},
   "outputs": [],
   "source": [
    "def rectarea (l,b):\n",
    "    print(\"Area of rectangle:\",l*b)\n",
    "def rectperi (l,b):\n",
    "    print(\"perimeter of rectangle:\",2*(l+b))\n",
    "    \n",
    "    "
   ]
  },
  {
   "cell_type": "code",
   "execution_count": 2,
   "id": "d5deb18c-5edb-4f79-8286-796a437ab927",
   "metadata": {},
   "outputs": [
    {
     "name": "stdout",
     "output_type": "stream",
     "text": [
      "[NbConvertApp] Converting notebook rectangle.ipynb to python\n",
      "[NbConvertApp] Writing 293 bytes to rectangle.py\n"
     ]
    }
   ],
   "source": [
    "!jupyter nbconvert --to python rectangle.ipynb"
   ]
  },
  {
   "cell_type": "code",
   "execution_count": null,
   "id": "d58e9202-a8cc-44df-9f18-2c560efc0ced",
   "metadata": {},
   "outputs": [],
   "source": []
  },
  {
   "cell_type": "code",
   "execution_count": null,
   "id": "8a530010-7607-48a9-9294-1f6e3a7b9ffc",
   "metadata": {},
   "outputs": [],
   "source": []
  }
 ],
 "metadata": {
  "kernelspec": {
   "display_name": "Python 3 (ipykernel)",
   "language": "python",
   "name": "python3"
  },
  "language_info": {
   "codemirror_mode": {
    "name": "ipython",
    "version": 3
   },
   "file_extension": ".py",
   "mimetype": "text/x-python",
   "name": "python",
   "nbconvert_exporter": "python",
   "pygments_lexer": "ipython3",
   "version": "3.11.9"
  }
 },
 "nbformat": 4,
 "nbformat_minor": 5
}
