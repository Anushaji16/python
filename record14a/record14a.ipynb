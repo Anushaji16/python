{
 "cells": [
  {
   "cell_type": "code",
   "execution_count": 3,
   "id": "dc8872b9-e46c-428e-bd23-5b7eaabbdec9",
   "metadata": {},
   "outputs": [
    {
     "name": "stdout",
     "output_type": "stream",
     "text": [
      "1.Rectangle\n",
      "2.circle\n",
      "3.Exit\n"
     ]
    },
    {
     "name": "stdin",
     "output_type": "stream",
     "text": [
      "Enter your choice: 1\n",
      "Enter length 2\n",
      "Enter breadth 4\n"
     ]
    },
    {
     "name": "stdout",
     "output_type": "stream",
     "text": [
      "Area of rectangle: 8\n",
      "perimeter of rectangle: 12\n",
      "1.Rectangle\n",
      "2.circle\n",
      "3.Exit\n"
     ]
    },
    {
     "name": "stdin",
     "output_type": "stream",
     "text": [
      "Enter your choice: 2\n",
      "Enter radius 2\n"
     ]
    },
    {
     "name": "stdout",
     "output_type": "stream",
     "text": [
      "area: 12.57\n",
      "perimeter: 12.57\n",
      "1.Rectangle\n",
      "2.circle\n",
      "3.Exit\n"
     ]
    },
    {
     "name": "stdin",
     "output_type": "stream",
     "text": [
      "Enter your choice: 3\n"
     ]
    },
    {
     "name": "stdout",
     "output_type": "stream",
     "text": [
      "Exiting...\n"
     ]
    }
   ],
   "source": [
    "import rectangle\n",
    "import circle\n",
    "while(1):\n",
    "    print(\"1.Rectangle\\n2.circle\\n3.Exit\")\n",
    "    ch=int(input(\"Enter your choice:\"))\n",
    "    if ch==1:\n",
    "        l=int(input(\"Enter length\"))\n",
    "        b=int(input(\"Enter breadth\"))\n",
    "        rectangle.rectarea(l,b)\n",
    "        rectangle.rectperi(l,b)\n",
    "    elif ch==2:\n",
    "        r=int(input(\"Enter radius\"))\n",
    "        print(\"area:\",round(circle.circlearea(r),2))\n",
    "        print(\"perimeter:\",round(circle.circleperi(r),2))\n",
    "    else:\n",
    "        print(\"Exiting...\")\n",
    "        break\n",
    "        "
   ]
  },
  {
   "cell_type": "code",
   "execution_count": null,
   "id": "7c33ff99-c62f-4778-a546-e264ac2ee734",
   "metadata": {},
   "outputs": [],
   "source": []
  }
 ],
 "metadata": {
  "kernelspec": {
   "display_name": "Python 3 (ipykernel)",
   "language": "python",
   "name": "python3"
  },
  "language_info": {
   "codemirror_mode": {
    "name": "ipython",
    "version": 3
   },
   "file_extension": ".py",
   "mimetype": "text/x-python",
   "name": "python",
   "nbconvert_exporter": "python",
   "pygments_lexer": "ipython3",
   "version": "3.11.9"
  }
 },
 "nbformat": 4,
 "nbformat_minor": 5
}
