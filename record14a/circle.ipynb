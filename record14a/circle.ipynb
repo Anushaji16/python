{
 "cells": [
  {
   "cell_type": "code",
   "execution_count": 1,
   "id": "62e6913d-f823-4d92-a7cb-8a912c34dd40",
   "metadata": {},
   "outputs": [],
   "source": [
    "import math\n",
    "def circlearea(r):\n",
    "    return math.pi*r*r\n",
    "def circleperi(r):\n",
    "     return 2*math.pi*r"
   ]
  },
  {
   "cell_type": "code",
   "execution_count": 3,
   "id": "465f86d5-b96c-435c-9984-cd53bc4df2ab",
   "metadata": {},
   "outputs": [
    {
     "name": "stdout",
     "output_type": "stream",
     "text": [
      "[NbConvertApp] Converting notebook circle.ipynb to python\n",
      "[NbConvertApp] Writing 242 bytes to circle.py\n"
     ]
    }
   ],
   "source": [
    "!jupyter nbconvert --to python circle.ipynb"
   ]
  },
  {
   "cell_type": "code",
   "execution_count": null,
   "id": "5f60b6cc-d7ac-4f59-9830-fb95e0f782b8",
   "metadata": {},
   "outputs": [],
   "source": []
  }
 ],
 "metadata": {
  "kernelspec": {
   "display_name": "Python 3 (ipykernel)",
   "language": "python",
   "name": "python3"
  },
  "language_info": {
   "codemirror_mode": {
    "name": "ipython",
    "version": 3
   },
   "file_extension": ".py",
   "mimetype": "text/x-python",
   "name": "python",
   "nbconvert_exporter": "python",
   "pygments_lexer": "ipython3",
   "version": "3.11.9"
  }
 },
 "nbformat": 4,
 "nbformat_minor": 5
}
